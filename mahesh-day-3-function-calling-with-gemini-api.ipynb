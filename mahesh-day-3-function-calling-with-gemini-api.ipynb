{
 "cells": [
  {
   "cell_type": "code",
   "execution_count": null,
   "id": "6faed0ec",
   "metadata": {
    "papermill": {
     "duration": 0.008149,
     "end_time": "2024-11-13T22:14:04.234751",
     "exception": false,
     "start_time": "2024-11-13T22:14:04.226602",
     "status": "completed"
    },
    "tags": []
   },
   "outputs": [],
   "source": []
  },
  {
   "cell_type": "markdown",
   "id": "fd245f30",
   "metadata": {
    "id": "b6e13eef3f5d",
    "papermill": {
     "duration": 0.006705,
     "end_time": "2024-11-13T22:14:04.248722",
     "exception": false,
     "start_time": "2024-11-13T22:14:04.242017",
     "status": "completed"
    },
    "tags": []
   },
   "source": [
    "##### Copyright 2024 Google LLC."
   ]
  },
  {
   "cell_type": "code",
   "execution_count": 1,
   "id": "a58c3d2f",
   "metadata": {
    "cellView": "form",
    "execution": {
     "iopub.execute_input": "2024-11-13T22:14:04.264756Z",
     "iopub.status.busy": "2024-11-13T22:14:04.264321Z",
     "iopub.status.idle": "2024-11-13T22:14:04.270235Z",
     "shell.execute_reply": "2024-11-13T22:14:04.269179Z"
    },
    "id": "d6597b11df14",
    "jupyter": {
     "source_hidden": true
    },
    "papermill": {
     "duration": 0.016893,
     "end_time": "2024-11-13T22:14:04.272782",
     "exception": false,
     "start_time": "2024-11-13T22:14:04.255889",
     "status": "completed"
    },
    "tags": []
   },
   "outputs": [],
   "source": [
    "# @title Licensed under the Apache License, Version 2.0 (the \"License\");\n",
    "# you may not use this file except in compliance with the License.\n",
    "# You may obtain a copy of the License at\n",
    "#\n",
    "# https://www.apache.org/licenses/LICENSE-2.0\n",
    "#\n",
    "# Unless required by applicable law or agreed to in writing, software\n",
    "# distributed under the License is distributed on an \"AS IS\" BASIS,\n",
    "# WITHOUT WARRANTIES OR CONDITIONS OF ANY KIND, either express or implied.\n",
    "# See the License for the specific language governing permissions and\n",
    "# limitations under the License."
   ]
  },
  {
   "cell_type": "markdown",
   "id": "9b3ecfb6",
   "metadata": {
    "id": "4a7d3bb68371",
    "papermill": {
     "duration": 0.007529,
     "end_time": "2024-11-13T22:14:04.288261",
     "exception": false,
     "start_time": "2024-11-13T22:14:04.280732",
     "status": "completed"
    },
    "tags": []
   },
   "source": [
    "# Day 3 - Function calling with the Gemini API\n",
    "\n",
    "Welcome back to the Kaggle 5-day Generative AI course!\n",
    "\n",
    "In this notebook, you will use the Gemini API's automatic function calling to build a chat interface over a local database. This example is a toy and is missing a number of safety and security constraints you would use in a real-world example.\n",
    "\n",
    "## For help\n",
    "\n",
    "**Common issues are covered in the [FAQ and troubleshooting guide](https://www.kaggle.com/code/markishere/day-0-troubleshooting-and-faqs).**"
   ]
  },
  {
   "cell_type": "markdown",
   "id": "b4b8ff2a",
   "metadata": {
    "id": "ea197d1d464f",
    "papermill": {
     "duration": 0.006914,
     "end_time": "2024-11-13T22:14:04.303769",
     "exception": false,
     "start_time": "2024-11-13T22:14:04.296855",
     "status": "completed"
    },
    "tags": []
   },
   "source": [
    "## Setup\n",
    "\n",
    "Start by installing and importing the Python SDK."
   ]
  },
  {
   "cell_type": "code",
   "execution_count": 2,
   "id": "9b36c102",
   "metadata": {
    "execution": {
     "iopub.execute_input": "2024-11-13T22:14:04.320448Z",
     "iopub.status.busy": "2024-11-13T22:14:04.320045Z",
     "iopub.status.idle": "2024-11-13T22:14:33.959487Z",
     "shell.execute_reply": "2024-11-13T22:14:33.958143Z"
    },
    "id": "a24f42e469df",
    "papermill": {
     "duration": 29.650524,
     "end_time": "2024-11-13T22:14:33.961987",
     "exception": false,
     "start_time": "2024-11-13T22:14:04.311463",
     "status": "completed"
    },
    "tags": []
   },
   "outputs": [
    {
     "name": "stdout",
     "output_type": "stream",
     "text": [
      "Note: you may need to restart the kernel to use updated packages.\n"
     ]
    }
   ],
   "source": [
    "%pip install -q -U 'google-generativeai>=0.8.3'"
   ]
  },
  {
   "cell_type": "code",
   "execution_count": 3,
   "id": "3ed19ae3",
   "metadata": {
    "execution": {
     "iopub.execute_input": "2024-11-13T22:14:33.978510Z",
     "iopub.status.busy": "2024-11-13T22:14:33.978054Z",
     "iopub.status.idle": "2024-11-13T22:14:35.080302Z",
     "shell.execute_reply": "2024-11-13T22:14:35.079021Z"
    },
    "id": "02bb0f551e25",
    "papermill": {
     "duration": 1.113955,
     "end_time": "2024-11-13T22:14:35.083260",
     "exception": false,
     "start_time": "2024-11-13T22:14:33.969305",
     "status": "completed"
    },
    "tags": []
   },
   "outputs": [],
   "source": [
    "import google.generativeai as genai"
   ]
  },
  {
   "cell_type": "markdown",
   "id": "a236c071",
   "metadata": {
    "id": "90e83cddff61",
    "papermill": {
     "duration": 0.007263,
     "end_time": "2024-11-13T22:14:35.098059",
     "exception": false,
     "start_time": "2024-11-13T22:14:35.090796",
     "status": "completed"
    },
    "tags": []
   },
   "source": [
    "### Set up your API key\n",
    "\n",
    "To run the following cell, your API key must be stored it in a [Kaggle secret](https://www.kaggle.com/discussions/product-feedback/114053) named `GOOGLE_API_KEY`.\n",
    "\n",
    "If you don't already have an API key, you can grab one from [AI Studio](https://aistudio.google.com/app/apikey). You can find [detailed instructions in the docs](https://ai.google.dev/gemini-api/docs/api-key).\n",
    "\n",
    "To make the key available through Kaggle secrets, choose `Secrets` from the `Add-ons` menu and follow the instructions to add your key or enable it for this notebook."
   ]
  },
  {
   "cell_type": "code",
   "execution_count": 4,
   "id": "e6cb22ef",
   "metadata": {
    "execution": {
     "iopub.execute_input": "2024-11-13T22:14:35.114810Z",
     "iopub.status.busy": "2024-11-13T22:14:35.113985Z",
     "iopub.status.idle": "2024-11-13T22:14:35.409497Z",
     "shell.execute_reply": "2024-11-13T22:14:35.408384Z"
    },
    "id": "5cc8325f051d",
    "papermill": {
     "duration": 0.307152,
     "end_time": "2024-11-13T22:14:35.412457",
     "exception": false,
     "start_time": "2024-11-13T22:14:35.105305",
     "status": "completed"
    },
    "tags": []
   },
   "outputs": [],
   "source": [
    "from kaggle_secrets import UserSecretsClient\n",
    "\n",
    "GOOGLE_API_KEY = UserSecretsClient().get_secret(\"GOOGLE_API_KEY\")\n",
    "genai.configure(api_key=GOOGLE_API_KEY)"
   ]
  },
  {
   "cell_type": "markdown",
   "id": "e593e6fb",
   "metadata": {
    "id": "857b6f96eb38",
    "papermill": {
     "duration": 0.007435,
     "end_time": "2024-11-13T22:14:35.427263",
     "exception": false,
     "start_time": "2024-11-13T22:14:35.419828",
     "status": "completed"
    },
    "tags": []
   },
   "source": [
    "If you received an error response along the lines of `No user secrets exist for kernel id ...`, then you need to add your API key via `Add-ons`, `Secrets` **and** enable it.\n",
    "\n",
    "![Screenshot of the checkbox to enable GOOGLE_API_KEY secret](https://storage.googleapis.com/kaggle-media/Images/5gdai_sc_3.png)"
   ]
  },
  {
   "cell_type": "markdown",
   "id": "c1161bdf",
   "metadata": {
    "id": "ed8fc6062c62",
    "papermill": {
     "duration": 0.006854,
     "end_time": "2024-11-13T22:14:35.441870",
     "exception": false,
     "start_time": "2024-11-13T22:14:35.435016",
     "status": "completed"
    },
    "tags": []
   },
   "source": [
    "## Create a local database\n",
    "\n",
    "For this minimal example, you'll create a local SQLite database and add some synthetic data so you have something to query.\n",
    "\n",
    "Load the `sql` IPython extension so you can interact with the database using magic commands (the `%` instructions) to create a new, empty SQLite database."
   ]
  },
  {
   "cell_type": "code",
   "execution_count": 5,
   "id": "c3f2ea62",
   "metadata": {
    "execution": {
     "iopub.execute_input": "2024-11-13T22:14:35.458180Z",
     "iopub.status.busy": "2024-11-13T22:14:35.457739Z",
     "iopub.status.idle": "2024-11-13T22:14:37.204937Z",
     "shell.execute_reply": "2024-11-13T22:14:37.203589Z"
    },
    "id": "c98a627ef07b",
    "papermill": {
     "duration": 1.758405,
     "end_time": "2024-11-13T22:14:37.207601",
     "exception": false,
     "start_time": "2024-11-13T22:14:35.449196",
     "status": "completed"
    },
    "tags": []
   },
   "outputs": [],
   "source": [
    "%load_ext sql\n",
    "%sql sqlite:///sample.db"
   ]
  },
  {
   "cell_type": "markdown",
   "id": "7854c79d",
   "metadata": {
    "id": "14e7bc18b8af",
    "papermill": {
     "duration": 0.008902,
     "end_time": "2024-11-13T22:14:37.223895",
     "exception": false,
     "start_time": "2024-11-13T22:14:37.214993",
     "status": "completed"
    },
    "tags": []
   },
   "source": [
    "Create the tables and insert some synthetic data. Feel free to tweak this structure and data."
   ]
  },
  {
   "cell_type": "code",
   "execution_count": 6,
   "id": "48577f4d",
   "metadata": {
    "execution": {
     "iopub.execute_input": "2024-11-13T22:14:37.242194Z",
     "iopub.status.busy": "2024-11-13T22:14:37.240780Z",
     "iopub.status.idle": "2024-11-13T22:14:37.330089Z",
     "shell.execute_reply": "2024-11-13T22:14:37.329029Z"
    },
    "id": "4e186de46cf1",
    "papermill": {
     "duration": 0.100993,
     "end_time": "2024-11-13T22:14:37.332633",
     "exception": false,
     "start_time": "2024-11-13T22:14:37.231640",
     "status": "completed"
    },
    "tags": []
   },
   "outputs": [
    {
     "name": "stdout",
     "output_type": "stream",
     "text": [
      " * sqlite:///sample.db\n",
      "Done.\n",
      "Done.\n",
      "Done.\n",
      "3 rows affected.\n",
      "3 rows affected.\n",
      "3 rows affected.\n"
     ]
    },
    {
     "data": {
      "text/plain": [
       "[]"
      ]
     },
     "execution_count": 6,
     "metadata": {},
     "output_type": "execute_result"
    }
   ],
   "source": [
    "%%sql\n",
    "-- Create the 'products' table\n",
    "CREATE TABLE IF NOT EXISTS products (\n",
    "  \tproduct_id INTEGER PRIMARY KEY AUTOINCREMENT,\n",
    "  \tproduct_name VARCHAR(255) NOT NULL,\n",
    "  \tprice DECIMAL(10, 2) NOT NULL\n",
    "  );\n",
    "\n",
    "-- Create the 'staff' table\n",
    "CREATE TABLE IF NOT EXISTS staff (\n",
    "  \tstaff_id INTEGER PRIMARY KEY AUTOINCREMENT,\n",
    "  \tfirst_name VARCHAR(255) NOT NULL,\n",
    "  \tlast_name VARCHAR(255) NOT NULL\n",
    "  );\n",
    "\n",
    "-- Create the 'orders' table\n",
    "CREATE TABLE IF NOT EXISTS orders (\n",
    "  \torder_id INTEGER PRIMARY KEY AUTOINCREMENT,\n",
    "  \tcustomer_name VARCHAR(255) NOT NULL,\n",
    "  \tstaff_id INTEGER NOT NULL,\n",
    "  \tproduct_id INTEGER NOT NULL,\n",
    "  \tFOREIGN KEY (staff_id) REFERENCES staff (staff_id),\n",
    "  \tFOREIGN KEY (product_id) REFERENCES products (product_id)\n",
    "  );\n",
    "\n",
    "-- Insert data into the 'products' table\n",
    "INSERT INTO products (product_name, price) VALUES\n",
    "  \t('Laptop', 799.99),\n",
    "  \t('Keyboard', 129.99),\n",
    "  \t('Mouse', 29.99);\n",
    "\n",
    "-- Insert data into the 'staff' table\n",
    "INSERT INTO staff (first_name, last_name) VALUES\n",
    "  \t('Alice', 'Smith'),\n",
    "  \t('Bob', 'Johnson'),\n",
    "  \t('Charlie', 'Williams');\n",
    "\n",
    "-- Insert data into the 'orders' table\n",
    "INSERT INTO orders (customer_name, staff_id, product_id) VALUES\n",
    "  \t('David Lee', 1, 1),\n",
    "  \t('Emily Chen', 2, 2),\n",
    "  \t('Frank Brown', 1, 3);"
   ]
  },
  {
   "cell_type": "markdown",
   "id": "a76e0b52",
   "metadata": {
    "id": "83901899a79b",
    "papermill": {
     "duration": 0.007231,
     "end_time": "2024-11-13T22:14:37.347530",
     "exception": false,
     "start_time": "2024-11-13T22:14:37.340299",
     "status": "completed"
    },
    "tags": []
   },
   "source": [
    "## Define database functions\n",
    "\n",
    "Function calling with Gemini API's Python SDK can be implemented by defining [an OpenAPI schema](https://ai.google.dev/api/caching#Schema) that is passed to the model. Alternatively you can define Python functions and let the SDK inspect them to automatically define the schema. In this latter case, it's important that the functions are type annotated and have accurate docstrings that describe what the functions do - the model has no insight into the function body, so the docs function as the interface.\n",
    "\n",
    "By providing three key pieces of functionality - listing tables, describing a table, and executing a query - the LLM (or even another user) will have the basic tools needed to understand and interrogate the database.\n",
    "\n",
    "Start with a database connection that will be used across all of the functions."
   ]
  },
  {
   "cell_type": "code",
   "execution_count": 7,
   "id": "bf44e1ae",
   "metadata": {
    "execution": {
     "iopub.execute_input": "2024-11-13T22:14:37.364715Z",
     "iopub.status.busy": "2024-11-13T22:14:37.364290Z",
     "iopub.status.idle": "2024-11-13T22:14:37.370034Z",
     "shell.execute_reply": "2024-11-13T22:14:37.368767Z"
    },
    "id": "437168bc6b6e",
    "papermill": {
     "duration": 0.01775,
     "end_time": "2024-11-13T22:14:37.372985",
     "exception": false,
     "start_time": "2024-11-13T22:14:37.355235",
     "status": "completed"
    },
    "tags": []
   },
   "outputs": [],
   "source": [
    "import sqlite3\n",
    "\n",
    "db_file = \"sample.db\"\n",
    "db_conn = sqlite3.connect(db_file)"
   ]
  },
  {
   "cell_type": "markdown",
   "id": "dcdc7f06",
   "metadata": {
    "id": "b68b1a2c37d9",
    "papermill": {
     "duration": 0.007811,
     "end_time": "2024-11-13T22:14:37.388554",
     "exception": false,
     "start_time": "2024-11-13T22:14:37.380743",
     "status": "completed"
    },
    "tags": []
   },
   "source": [
    "The first function will list all tables available in the database. Define it, and test it out to ensure it works."
   ]
  },
  {
   "cell_type": "code",
   "execution_count": 8,
   "id": "ac46f937",
   "metadata": {
    "execution": {
     "iopub.execute_input": "2024-11-13T22:14:37.405314Z",
     "iopub.status.busy": "2024-11-13T22:14:37.404866Z",
     "iopub.status.idle": "2024-11-13T22:14:37.416087Z",
     "shell.execute_reply": "2024-11-13T22:14:37.414837Z"
    },
    "id": "bdb0e4d2bb4b",
    "papermill": {
     "duration": 0.02268,
     "end_time": "2024-11-13T22:14:37.418770",
     "exception": false,
     "start_time": "2024-11-13T22:14:37.396090",
     "status": "completed"
    },
    "tags": []
   },
   "outputs": [
    {
     "name": "stdout",
     "output_type": "stream",
     "text": [
      " - DB CALL: list_tables\n"
     ]
    },
    {
     "data": {
      "text/plain": [
       "['products', 'sqlite_sequence', 'staff', 'orders']"
      ]
     },
     "execution_count": 8,
     "metadata": {},
     "output_type": "execute_result"
    }
   ],
   "source": [
    "def list_tables() -> list[str]:\n",
    "    \"\"\"Retrieve the names of all tables in the database.\"\"\"\n",
    "    # Include print logging statements so you can see when functions are being called.\n",
    "    print(' - DB CALL: list_tables')\n",
    "\n",
    "    cursor = db_conn.cursor()\n",
    "\n",
    "    # Fetch the table names.\n",
    "    cursor.execute(\"SELECT name FROM sqlite_master WHERE type='table';\")\n",
    "\n",
    "    tables = cursor.fetchall()\n",
    "    return [t[0] for t in tables]\n",
    "\n",
    "\n",
    "list_tables()"
   ]
  },
  {
   "cell_type": "markdown",
   "id": "2627f91a",
   "metadata": {
    "id": "b6c010b1b6c2",
    "papermill": {
     "duration": 0.007643,
     "end_time": "2024-11-13T22:14:37.435026",
     "exception": false,
     "start_time": "2024-11-13T22:14:37.427383",
     "status": "completed"
    },
    "tags": []
   },
   "source": [
    "Once the available tables is known, the next step a database user will need is to understand what columns are available in a given table. Define that too, and test that it works as expected."
   ]
  },
  {
   "cell_type": "code",
   "execution_count": 9,
   "id": "0de852ae",
   "metadata": {
    "execution": {
     "iopub.execute_input": "2024-11-13T22:14:37.452981Z",
     "iopub.status.busy": "2024-11-13T22:14:37.452543Z",
     "iopub.status.idle": "2024-11-13T22:14:37.463373Z",
     "shell.execute_reply": "2024-11-13T22:14:37.462236Z"
    },
    "id": "ecdb109298c4",
    "papermill": {
     "duration": 0.022973,
     "end_time": "2024-11-13T22:14:37.466077",
     "exception": false,
     "start_time": "2024-11-13T22:14:37.443104",
     "status": "completed"
    },
    "tags": []
   },
   "outputs": [
    {
     "name": "stdout",
     "output_type": "stream",
     "text": [
      " - DB CALL: describe_table\n"
     ]
    },
    {
     "data": {
      "text/plain": [
       "[('product_id', 'INTEGER'),\n",
       " ('product_name', 'VARCHAR(255)'),\n",
       " ('price', 'DECIMAL(10, 2)')]"
      ]
     },
     "execution_count": 9,
     "metadata": {},
     "output_type": "execute_result"
    }
   ],
   "source": [
    "def describe_table(table_name: str) -> list[tuple[str, str]]:\n",
    "    \"\"\"Look up the table schema.\n",
    "\n",
    "    Returns:\n",
    "      List of columns, where each entry is a tuple of (column, type).\n",
    "    \"\"\"\n",
    "    print(' - DB CALL: describe_table')\n",
    "\n",
    "    cursor = db_conn.cursor()\n",
    "\n",
    "    cursor.execute(f\"PRAGMA table_info({table_name});\")\n",
    "\n",
    "    schema = cursor.fetchall()\n",
    "    # [column index, column name, column type, ...]\n",
    "    return [(col[1], col[2]) for col in schema]\n",
    "\n",
    "\n",
    "describe_table(\"products\")"
   ]
  },
  {
   "cell_type": "markdown",
   "id": "43db3ca0",
   "metadata": {
    "id": "f6053a2ca272",
    "papermill": {
     "duration": 0.007612,
     "end_time": "2024-11-13T22:14:37.481690",
     "exception": false,
     "start_time": "2024-11-13T22:14:37.474078",
     "status": "completed"
    },
    "tags": []
   },
   "source": [
    "Now that the system knows what tables and columns are present, it has enough information to be able to generate and run a `SELECT` query. Now provide that functionality, and test that it works."
   ]
  },
  {
   "cell_type": "code",
   "execution_count": 10,
   "id": "5e98b6c4",
   "metadata": {
    "execution": {
     "iopub.execute_input": "2024-11-13T22:14:37.499300Z",
     "iopub.status.busy": "2024-11-13T22:14:37.498850Z",
     "iopub.status.idle": "2024-11-13T22:14:37.508218Z",
     "shell.execute_reply": "2024-11-13T22:14:37.507184Z"
    },
    "id": "9e405db8b3f6",
    "papermill": {
     "duration": 0.020947,
     "end_time": "2024-11-13T22:14:37.510431",
     "exception": false,
     "start_time": "2024-11-13T22:14:37.489484",
     "status": "completed"
    },
    "tags": []
   },
   "outputs": [
    {
     "name": "stdout",
     "output_type": "stream",
     "text": [
      " - DB CALL: execute_query\n"
     ]
    },
    {
     "data": {
      "text/plain": [
       "[(1, 'Laptop', 799.99), (2, 'Keyboard', 129.99), (3, 'Mouse', 29.99)]"
      ]
     },
     "execution_count": 10,
     "metadata": {},
     "output_type": "execute_result"
    }
   ],
   "source": [
    "def execute_query(sql: str) -> list[list[str]]:\n",
    "    \"\"\"Execute a SELECT statement, returning the results.\"\"\"\n",
    "    print(' - DB CALL: execute_query')\n",
    "\n",
    "    cursor = db_conn.cursor()\n",
    "\n",
    "    cursor.execute(sql)\n",
    "    return cursor.fetchall()\n",
    "\n",
    "\n",
    "execute_query(\"select * from products\")"
   ]
  },
  {
   "cell_type": "markdown",
   "id": "39bcf573",
   "metadata": {
    "id": "ac464dfb35a0",
    "papermill": {
     "duration": 0.007727,
     "end_time": "2024-11-13T22:14:37.526952",
     "exception": false,
     "start_time": "2024-11-13T22:14:37.519225",
     "status": "completed"
    },
    "tags": []
   },
   "source": [
    "## Implement function calls\n",
    "\n",
    "Now you can put it all together in a call to the Gemini API.\n",
    "\n",
    "Function calling works by adding specific messages to a chat session. When function schemas are defined and made available to the model and a conversation is started, instead of returning a text response, the model may return a `function_call` instead. When this happens, the client must respond with a `function_response`, indicating the result of the call, and the conversation can continue on as normal.\n",
    "\n",
    "This function calling interaction normally happens manually, allowing you, the client, to validate and initiate the call. However the Python SDK also supports **automatic function calling**, where the supplied functions will be automatically invoked. This is a powerful feature and should only be exposed when it is safe to do so, such as when the functions have no [side-effects](https://en.wikipedia.org/wiki/Side_effect_(computer_science)).\n",
    "\n",
    "Here's the state diagram representing the conversation flow with function calling. With automatic function calling, the bottom row is executed automatically by the Python SDK. In manual function calling, you write the code to run each step individually.\n",
    "\n",
    "![function calling state diagram](https://codelabs.developers.google.com/static/codelabs/gemini-function-calling/img/gemini-function-calling-overview_1440.png)"
   ]
  },
  {
   "cell_type": "code",
   "execution_count": 11,
   "id": "993fcdc0",
   "metadata": {
    "execution": {
     "iopub.execute_input": "2024-11-13T22:14:37.546952Z",
     "iopub.status.busy": "2024-11-13T22:14:37.545699Z",
     "iopub.status.idle": "2024-11-13T22:14:37.724131Z",
     "shell.execute_reply": "2024-11-13T22:14:37.722874Z"
    },
    "id": "f4839540066d",
    "papermill": {
     "duration": 0.191299,
     "end_time": "2024-11-13T22:14:37.727075",
     "exception": false,
     "start_time": "2024-11-13T22:14:37.535776",
     "status": "completed"
    },
    "tags": []
   },
   "outputs": [],
   "source": [
    "# These are the Python functions defined above.\n",
    "db_tools = [list_tables, describe_table, execute_query]\n",
    "\n",
    "instruction = \"\"\"You are a helpful chatbot that can interact with an SQL database for a computer\n",
    "store. You will take the users questions and turn them into SQL queries using the tools\n",
    "available. Once you have the information you need, you will answer the user's question using\n",
    "the data returned. Use list_tables to see what tables are present, describe_table to understand\n",
    "the schema, and execute_query to issue an SQL SELECT query.\"\"\"\n",
    "\n",
    "model = genai.GenerativeModel(\n",
    "    \"models/gemini-1.5-flash-latest\", tools=db_tools, system_instruction=instruction\n",
    ")\n",
    "\n",
    "# Define a retry policy. The model might make multiple consecutive calls automatically\n",
    "# for a complex query, this ensures the client retries if it hits quota limits.\n",
    "from google.api_core import retry\n",
    "\n",
    "retry_policy = {\"retry\": retry.Retry(predicate=retry.if_transient_error)}\n",
    "\n",
    "# Start a chat with automatic function calling enabled.\n",
    "chat = model.start_chat(enable_automatic_function_calling=True)"
   ]
  },
  {
   "cell_type": "markdown",
   "id": "02a3079a",
   "metadata": {
    "id": "5f120977f1ee",
    "papermill": {
     "duration": 0.008369,
     "end_time": "2024-11-13T22:14:37.743421",
     "exception": false,
     "start_time": "2024-11-13T22:14:37.735052",
     "status": "completed"
    },
    "tags": []
   },
   "source": [
    "Now you can engage in a chat conversation where you can ask about the contents of the database."
   ]
  },
  {
   "cell_type": "code",
   "execution_count": 12,
   "id": "3d12d411",
   "metadata": {
    "execution": {
     "iopub.execute_input": "2024-11-13T22:14:37.761944Z",
     "iopub.status.busy": "2024-11-13T22:14:37.761480Z",
     "iopub.status.idle": "2024-11-13T22:14:40.020809Z",
     "shell.execute_reply": "2024-11-13T22:14:40.019549Z"
    },
    "id": "111cfb79338b",
    "papermill": {
     "duration": 2.271366,
     "end_time": "2024-11-13T22:14:40.023399",
     "exception": false,
     "start_time": "2024-11-13T22:14:37.752033",
     "status": "completed"
    },
    "tags": []
   },
   "outputs": [
    {
     "name": "stdout",
     "output_type": "stream",
     "text": [
      " - DB CALL: list_tables\n",
      " - DB CALL: describe_table\n",
      " - DB CALL: execute_query\n",
      "The cheapest product is Mouse. \n",
      "\n"
     ]
    }
   ],
   "source": [
    "resp = chat.send_message(\"What is the cheapest product?\", request_options=retry_policy)\n",
    "print(resp.text)"
   ]
  },
  {
   "cell_type": "markdown",
   "id": "9b91fcf3",
   "metadata": {
    "id": "43595d4ef920",
    "papermill": {
     "duration": 0.008615,
     "end_time": "2024-11-13T22:14:40.040605",
     "exception": false,
     "start_time": "2024-11-13T22:14:40.031990",
     "status": "completed"
    },
    "tags": []
   },
   "source": [
    "If you re-use the same [`ChatSession`](https://github.com/google-gemini/generative-ai-python/blob/main/docs/api/google/generativeai/ChatSession.md) object, the conversation will continue statefully. If you wish to start fresh, you can call [`start_chat`](https://github.com/google-gemini/generative-ai-python/blob/main/docs/api/google/generativeai/GenerativeModel.md#start_chat) again, or call [`rewind`](https://github.com/google-gemini/generative-ai-python/blob/main/docs/api/google/generativeai/ChatSession.md#rewind) on the chat object to go back a turn.\n",
    "\n",
    "Continue the chat here by asking a follow-up question. Note that the database information is preserved, and the context of the specific product is inferred."
   ]
  },
  {
   "cell_type": "code",
   "execution_count": 13,
   "id": "e6ac7cc6",
   "metadata": {
    "execution": {
     "iopub.execute_input": "2024-11-13T22:14:40.059473Z",
     "iopub.status.busy": "2024-11-13T22:14:40.058670Z",
     "iopub.status.idle": "2024-11-13T22:14:41.092960Z",
     "shell.execute_reply": "2024-11-13T22:14:41.091617Z"
    },
    "id": "647cbcc43993",
    "papermill": {
     "duration": 1.047099,
     "end_time": "2024-11-13T22:14:41.095995",
     "exception": false,
     "start_time": "2024-11-13T22:14:40.048896",
     "status": "completed"
    },
    "tags": []
   },
   "outputs": [
    {
     "name": "stdout",
     "output_type": "stream",
     "text": [
      " - DB CALL: execute_query\n",
      "It costs $29.99. \n",
      "\n"
     ]
    }
   ],
   "source": [
    "resp = chat.send_message(\"and how much is it?\", request_options=retry_policy)\n",
    "print(resp.text)"
   ]
  },
  {
   "cell_type": "markdown",
   "id": "56042d35",
   "metadata": {
    "id": "d67f635191c8",
    "papermill": {
     "duration": 0.00828,
     "end_time": "2024-11-13T22:14:41.112881",
     "exception": false,
     "start_time": "2024-11-13T22:14:41.104601",
     "status": "completed"
    },
    "tags": []
   },
   "source": [
    "Explore the chat session and ask your own questions. If you want to try asking more complex questions, try using the `gemini-1.5-pro` model. It has a lower rate limit, so calls might take a bit longer on the free tier, but you'll notice an improvement in expressivity."
   ]
  },
  {
   "cell_type": "code",
   "execution_count": 14,
   "id": "ac136d3c",
   "metadata": {
    "execution": {
     "iopub.execute_input": "2024-11-13T22:14:41.131547Z",
     "iopub.status.busy": "2024-11-13T22:14:41.131130Z",
     "iopub.status.idle": "2024-11-13T22:16:46.743398Z",
     "shell.execute_reply": "2024-11-13T22:16:46.742019Z"
    },
    "id": "647cbcc43993",
    "papermill": {
     "duration": 125.624895,
     "end_time": "2024-11-13T22:16:46.746255",
     "exception": false,
     "start_time": "2024-11-13T22:14:41.121360",
     "status": "completed"
    },
    "tags": []
   },
   "outputs": [
    {
     "name": "stdout",
     "output_type": "stream",
     "text": [
      " - DB CALL: list_tables\n",
      " - DB CALL: describe_table\n",
      " - DB CALL: describe_table\n",
      " - DB CALL: describe_table\n",
      " - DB CALL: execute_query\n",
      "Alice Smith sold the cheapest product.\n"
     ]
    }
   ],
   "source": [
    "model = genai.GenerativeModel(\n",
    "    \"models/gemini-1.5-pro-latest\", tools=db_tools, system_instruction=instruction\n",
    ")\n",
    "\n",
    "chat = model.start_chat(enable_automatic_function_calling=True)\n",
    "response = chat.send_message('Which salesperson sold the cheapest product?', request_options=retry_policy)\n",
    "print(response.text)"
   ]
  },
  {
   "cell_type": "markdown",
   "id": "71a1e210",
   "metadata": {
    "id": "1f5bb6d9bd6a",
    "papermill": {
     "duration": 0.008637,
     "end_time": "2024-11-13T22:16:46.763844",
     "exception": false,
     "start_time": "2024-11-13T22:16:46.755207",
     "status": "completed"
    },
    "tags": []
   },
   "source": [
    "### Inspecting the conversation\n",
    "\n",
    "To see the calls that the model makes, and what the client returns in response, you can inspect `chat.history`. This helper function will print out each turn along with the relevant fields passed or returned."
   ]
  },
  {
   "cell_type": "code",
   "execution_count": 15,
   "id": "771e3da4",
   "metadata": {
    "execution": {
     "iopub.execute_input": "2024-11-13T22:16:46.787014Z",
     "iopub.status.busy": "2024-11-13T22:16:46.785687Z",
     "iopub.status.idle": "2024-11-13T22:16:46.796415Z",
     "shell.execute_reply": "2024-11-13T22:16:46.795085Z"
    },
    "id": "639963cc64e2",
    "papermill": {
     "duration": 0.024547,
     "end_time": "2024-11-13T22:16:46.799500",
     "exception": false,
     "start_time": "2024-11-13T22:16:46.774953",
     "status": "completed"
    },
    "tags": []
   },
   "outputs": [
    {
     "name": "stdout",
     "output_type": "stream",
     "text": [
      "User:\n",
      "  \"Which salesperson sold the cheapest product?\"\n",
      "\n",
      "Model:\n",
      "  Function call: list_tables()\n",
      "\n",
      "User:\n",
      "  Function response:\n",
      "    name: \"list_tables\"\n",
      "    response {\n",
      "      fields {\n",
      "        key: \"result\"\n",
      "        value {\n",
      "          list_value {\n",
      "            values {\n",
      "              string_value: \"products\"\n",
      "            }\n",
      "            values {\n",
      "              string_value: \"sqlite_sequence\"\n",
      "            }\n",
      "            values {\n",
      "              string_value: \"staff\"\n",
      "            }\n",
      "            values {\n",
      "              string_value: \"orders\"\n",
      "            }\n",
      "          }\n",
      "        }\n",
      "      }\n",
      "    }\n",
      "\n",
      "\n",
      "Model:\n",
      "  Function call: describe_table(table_name=products)\n",
      "\n",
      "User:\n",
      "  Function response:\n",
      "    name: \"describe_table\"\n",
      "    response {\n",
      "      fields {\n",
      "        key: \"result\"\n",
      "        value {\n",
      "          list_value {\n",
      "            values {\n",
      "              list_value {\n",
      "                values {\n",
      "                  string_value: \"product_id\"\n",
      "                }\n",
      "                values {\n",
      "                  string_value: \"INTEGER\"\n",
      "                }\n",
      "              }\n",
      "            }\n",
      "            values {\n",
      "              list_value {\n",
      "                values {\n",
      "                  string_value: \"product_name\"\n",
      "                }\n",
      "                values {\n",
      "                  string_value: \"VARCHAR(255)\"\n",
      "                }\n",
      "              }\n",
      "            }\n",
      "            values {\n",
      "              list_value {\n",
      "                values {\n",
      "                  string_value: \"price\"\n",
      "                }\n",
      "                values {\n",
      "                  string_value: \"DECIMAL(10, 2)\"\n",
      "                }\n",
      "              }\n",
      "            }\n",
      "          }\n",
      "        }\n",
      "      }\n",
      "    }\n",
      "\n",
      "\n",
      "Model:\n",
      "  Function call: describe_table(table_name=orders)\n",
      "\n",
      "User:\n",
      "  Function response:\n",
      "    name: \"describe_table\"\n",
      "    response {\n",
      "      fields {\n",
      "        key: \"result\"\n",
      "        value {\n",
      "          list_value {\n",
      "            values {\n",
      "              list_value {\n",
      "                values {\n",
      "                  string_value: \"order_id\"\n",
      "                }\n",
      "                values {\n",
      "                  string_value: \"INTEGER\"\n",
      "                }\n",
      "              }\n",
      "            }\n",
      "            values {\n",
      "              list_value {\n",
      "                values {\n",
      "                  string_value: \"customer_name\"\n",
      "                }\n",
      "                values {\n",
      "                  string_value: \"VARCHAR(255)\"\n",
      "                }\n",
      "              }\n",
      "            }\n",
      "            values {\n",
      "              list_value {\n",
      "                values {\n",
      "                  string_value: \"staff_id\"\n",
      "                }\n",
      "                values {\n",
      "                  string_value: \"INTEGER\"\n",
      "                }\n",
      "              }\n",
      "            }\n",
      "            values {\n",
      "              list_value {\n",
      "                values {\n",
      "                  string_value: \"product_id\"\n",
      "                }\n",
      "                values {\n",
      "                  string_value: \"INTEGER\"\n",
      "                }\n",
      "              }\n",
      "            }\n",
      "          }\n",
      "        }\n",
      "      }\n",
      "    }\n",
      "\n",
      "\n",
      "Model:\n",
      "  Function call: describe_table(table_name=staff)\n",
      "\n",
      "User:\n",
      "  Function response:\n",
      "    name: \"describe_table\"\n",
      "    response {\n",
      "      fields {\n",
      "        key: \"result\"\n",
      "        value {\n",
      "          list_value {\n",
      "            values {\n",
      "              list_value {\n",
      "                values {\n",
      "                  string_value: \"staff_id\"\n",
      "                }\n",
      "                values {\n",
      "                  string_value: \"INTEGER\"\n",
      "                }\n",
      "              }\n",
      "            }\n",
      "            values {\n",
      "              list_value {\n",
      "                values {\n",
      "                  string_value: \"first_name\"\n",
      "                }\n",
      "                values {\n",
      "                  string_value: \"VARCHAR(255)\"\n",
      "                }\n",
      "              }\n",
      "            }\n",
      "            values {\n",
      "              list_value {\n",
      "                values {\n",
      "                  string_value: \"last_name\"\n",
      "                }\n",
      "                values {\n",
      "                  string_value: \"VARCHAR(255)\"\n",
      "                }\n",
      "              }\n",
      "            }\n",
      "          }\n",
      "        }\n",
      "      }\n",
      "    }\n",
      "\n",
      "\n",
      "Model:\n",
      "  Function call: execute_query(sql=SELECT staff.first_name, staff.last_name FROM staff INNER JOIN orders ON staff.staff_id = orders.staff_id INNER JOIN products ON orders.product_id = products.product_id ORDER BY products.price ASC LIMIT 1)\n",
      "\n",
      "User:\n",
      "  Function response:\n",
      "    name: \"execute_query\"\n",
      "    response {\n",
      "      fields {\n",
      "        key: \"result\"\n",
      "        value {\n",
      "          list_value {\n",
      "            values {\n",
      "              list_value {\n",
      "                values {\n",
      "                  string_value: \"Alice\"\n",
      "                }\n",
      "                values {\n",
      "                  string_value: \"Smith\"\n",
      "                }\n",
      "              }\n",
      "            }\n",
      "          }\n",
      "        }\n",
      "      }\n",
      "    }\n",
      "\n",
      "\n",
      "Model:\n",
      "  \"Alice Smith sold the cheapest product.\"\n",
      "\n"
     ]
    }
   ],
   "source": [
    "import textwrap\n",
    "\n",
    "\n",
    "def print_chat_turns(chat):\n",
    "    \"\"\"Prints out each turn in the chat history, including function calls and responses.\"\"\"\n",
    "    for event in chat.history:\n",
    "        print(f\"{event.role.capitalize()}:\")\n",
    "\n",
    "        for part in event.parts:\n",
    "            if txt := part.text:\n",
    "                print(f'  \"{txt}\"')\n",
    "            elif fn := part.function_call:\n",
    "                args = \", \".join(f\"{key}={val}\" for key, val in fn.args.items())\n",
    "                print(f\"  Function call: {fn.name}({args})\")\n",
    "            elif resp := part.function_response:\n",
    "                print(\"  Function response:\")\n",
    "                print(textwrap.indent(str(resp), \"    \"))\n",
    "\n",
    "        print()\n",
    "\n",
    "\n",
    "print_chat_turns(chat)"
   ]
  },
  {
   "cell_type": "markdown",
   "id": "37ea0d89",
   "metadata": {
    "id": "8a17aeb2a3ef",
    "papermill": {
     "duration": 0.008592,
     "end_time": "2024-11-13T22:16:46.817065",
     "exception": false,
     "start_time": "2024-11-13T22:16:46.808473",
     "status": "completed"
    },
    "tags": []
   },
   "source": [
    "In this output you can see each of the conversational turns that were made. Note that the model doesn't remember anything outside of a `ChatSession` object, so you can make changes to the database structure or data and the model will respond without needing any code changes - try this out!"
   ]
  },
  {
   "cell_type": "markdown",
   "id": "1b679a0b",
   "metadata": {
    "id": "8a17aeb2a3ef",
    "papermill": {
     "duration": 0.008643,
     "end_time": "2024-11-13T22:16:46.834660",
     "exception": false,
     "start_time": "2024-11-13T22:16:46.826017",
     "status": "completed"
    },
    "tags": []
   },
   "source": [
    "## Further reading\n",
    "\n",
    "To learn more about what the Gemini API can do with function calling, check out the [Function calling cookbook](https://github.com/google-gemini/cookbook/blob/main/quickstarts/Function_calling.ipynb) (see `Manual function calling` to understand how function calling works manually) as well as [Function calling config](https://github.com/google-gemini/cookbook/blob/main/quickstarts/Function_calling_config.ipynb), which gives you fine-grained control over how function calling is triggered."
   ]
  }
 ],
 "metadata": {
  "colab": {
   "name": "day-3-function-calling-with-the-gemini-api.ipynb",
   "toc_visible": true
  },
  "kaggle": {
   "accelerator": "none",
   "dataSources": [],
   "dockerImageVersionId": 30786,
   "isGpuEnabled": false,
   "isInternetEnabled": true,
   "language": "python",
   "sourceType": "notebook"
  },
  "kernelspec": {
   "display_name": "Python 3",
   "language": "python",
   "name": "python3"
  },
  "language_info": {
   "codemirror_mode": {
    "name": "ipython",
    "version": 3
   },
   "file_extension": ".py",
   "mimetype": "text/x-python",
   "name": "python",
   "nbconvert_exporter": "python",
   "pygments_lexer": "ipython3",
   "version": "3.10.14"
  },
  "papermill": {
   "default_parameters": {},
   "duration": 166.367381,
   "end_time": "2024-11-13T22:16:47.667268",
   "environment_variables": {},
   "exception": null,
   "input_path": "__notebook__.ipynb",
   "output_path": "__notebook__.ipynb",
   "parameters": {},
   "start_time": "2024-11-13T22:14:01.299887",
   "version": "2.6.0"
  }
 },
 "nbformat": 4,
 "nbformat_minor": 5
}
